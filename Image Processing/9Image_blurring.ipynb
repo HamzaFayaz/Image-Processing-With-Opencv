{
 "cells": [
  {
   "cell_type": "code",
   "execution_count": null,
   "metadata": {},
   "outputs": [],
   "source": []
  },
  {
   "cell_type": "markdown",
   "metadata": {},
   "source": [
    "For Image blurr we use the function cv2.filter2d (src , ddepth , anchor , etc )\n",
    "\n",
    "for image burrling we use the ones kernel and normalize it to get the output correctly like  (3 by 3) (5 by5)  increasing the \n",
    "filter size  will increase the blurr in image \n",
    "\n",
    "for motion blurr --> we use horizational or verical blurr so kernal will all zero except (the center horizontal pixel for  horizontal blurr )\n",
    "\n",
    "and same for vertical blurr\n",
    "\n",
    "\n",
    "other function is boxfilter and blurr \n",
    "\n",
    "\n",
    "all the three function work same but the filter2d required a kernal which we made and apply of the function\n",
    "\n",
    "in the other you can give the kernel the kernel is made by the function\n",
    "\n",
    "\n",
    "\n",
    "\n",
    " Strat coding of the functions \n",
    " \n"
   ]
  },
  {
   "cell_type": "code",
   "execution_count": 1,
   "metadata": {},
   "outputs": [],
   "source": [
    "import cv2 \n",
    "import numpy as np\n"
   ]
  },
  {
   "cell_type": "code",
   "execution_count": 2,
   "metadata": {},
   "outputs": [],
   "source": [
    "img = cv2.imread(\"lena5.jpg\")\n",
    "\n",
    "kernel_3 = np.ones((7,7))/49 # for normlization\n",
    "\n",
    "output_img = cv2.filter2D(img , -1 , kernel_3)  # after blurring the image we can segment easyly if the image have noise\n",
    "\n",
    "cv2.imshow(\"img\",img)\n",
    "cv2.imshow(\"Output\",output_img)\n",
    "\n",
    "cv2.waitKey(0)\n",
    "cv2.destroyAllWindows()\n",
    "\n",
    "\n"
   ]
  },
  {
   "cell_type": "code",
   "execution_count": 5,
   "metadata": {},
   "outputs": [],
   "source": [
    "# now Showing the boxfilter and blurr function \n",
    "\n",
    "\n",
    "box_img = cv2.boxFilter(img , -1, (7,7),normalize=True) # second parametr is ddepth , 3rd is kernel size the kernel is made by the function\n",
    "\n",
    "blur_img = cv2.blur(img , (7,7)) # do normalization by default\n",
    "\n",
    "cv2.imshow(\"img\",img)\n",
    "cv2.imshow(\"Output\",output_img)\n",
    "cv2.imshow(\"Box_img\",box_img)\n",
    "cv2.imshow(\"Blurr_img\",blur_img)\n",
    "\n",
    "\n",
    "\n",
    "cv2.waitKey(0)\n",
    "cv2.destroyAllWindows()\n",
    "\n"
   ]
  },
  {
   "cell_type": "markdown",
   "metadata": {},
   "source": [
    "Know Using Guassian blurring method \n",
    "\n",
    "Same is above but the Guassian blurr gives more weight the near pixels and low weight to the other pixel repestive\n",
    "\n",
    "give more weight the near pixel to center pixel for which the kernel is calculted and give small weight from the previous pixel and give more small pixel to next from the previous\n",
    "\n",
    "Its the best method for blurring its preserve the contrast  or maintaince the constrast (color changing)"
   ]
  },
  {
   "cell_type": "code",
   "execution_count": 7,
   "metadata": {},
   "outputs": [],
   "source": [
    "# code \n",
    "\n",
    "G_blur = cv2.GaussianBlur(src=img , ksize=(11,11),sigmaX=0)# sigmax is standard devition is x direction\n",
    "\n",
    "\n",
    "\n",
    "\n"
   ]
  },
  {
   "cell_type": "markdown",
   "metadata": {},
   "source": [
    "# Median blurr Best for Removing Noise from images\n",
    "\n",
    "Median Blur calculate the median of all the pixels according to the kernal size and replace the pixel value the medain of the values according to the kernel size \n",
    "\n",
    "filter2d , blurr boxfliter work on the calculation the mean but medaian blurr work on calculation of meadian\n",
    "\n"
   ]
  },
  {
   "cell_type": "code",
   "execution_count": 10,
   "metadata": {},
   "outputs": [],
   "source": [
    "# Median blurr code \n",
    "\n",
    "M_img = cv2.medianBlur(img , ksize=11) # kzise in interger not tupple\n",
    "\n",
    "cv2.imshow(\"img\",img)\n",
    "cv2.imshow(\"Output\",output_img)\n",
    "cv2.imshow(\"Box_img\",box_img)\n",
    "cv2.imshow(\"Blurr_img\",blur_img)\n",
    "cv2.imshow(\"G_blurr\",G_blur)\n",
    "cv2.imshow(\"median Blur\",M_img)\n",
    "\n",
    "cv2.waitKey(0)\n",
    "cv2.destroyAllWindows()\n",
    "\n",
    "\n"
   ]
  },
  {
   "cell_type": "markdown",
   "metadata": {},
   "source": [
    "Bilateral filter : (reduce noise in image + preserve Edges)"
   ]
  },
  {
   "cell_type": "code",
   "execution_count": 16,
   "metadata": {},
   "outputs": [],
   "source": [
    "# code Of Bilateral filter \n",
    "\n",
    "B_img = cv2.bilateralFilter(img ,21, 6,6) #  sigmaColor ,  sigmaSpace,serach for this method \n",
    "\n",
    "cv2.imshow(\"img\",img)\n",
    "cv2.imshow(\"Output\",output_img)\n",
    "cv2.imshow(\"Box_img\",box_img)\n",
    "cv2.imshow(\"Blurr_img\",blur_img)\n",
    "cv2.imshow(\"G_blurr\",G_blur)\n",
    "cv2.imshow(\"median Blur\",M_img)\n",
    "cv2.imshow(\"bilateral blurr \",B_img)\n",
    "cv2.waitKey(0)\n",
    "cv2.destroyAllWindows()\n",
    "\n",
    "\n"
   ]
  }
 ],
 "metadata": {
  "kernelspec": {
   "display_name": "Python 3",
   "language": "python",
   "name": "python3"
  },
  "language_info": {
   "codemirror_mode": {
    "name": "ipython",
    "version": 3
   },
   "file_extension": ".py",
   "mimetype": "text/x-python",
   "name": "python",
   "nbconvert_exporter": "python",
   "pygments_lexer": "ipython3",
   "version": "3.11.5"
  }
 },
 "nbformat": 4,
 "nbformat_minor": 2
}
