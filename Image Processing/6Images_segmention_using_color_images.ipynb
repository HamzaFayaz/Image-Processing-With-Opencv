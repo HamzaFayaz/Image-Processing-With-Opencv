{
 "cells": [
  {
   "cell_type": "code",
   "execution_count": null,
   "metadata": {},
   "outputs": [],
   "source": [
    "import cv2\n",
    "import numpy as np\n"
   ]
  },
  {
   "cell_type": "markdown",
   "metadata": {},
   "source": [
    "For Color Images Segmention the HSV Color Space Is Use \n",
    "\n",
    "For color Segmention a project is below Using the webcam and color Detection\n",
    "\n",
    "\n",
    "for HSV the each color  is define the in range like (minH , minS ,minV ) and (maxH,maxS,maxV) \n",
    "\n",
    "this is for the one color variation like for orange from (some light orange to some dark orange) --> the color will consider is orange not Darko and lightO\n",
    "\n"
   ]
  },
  {
   "cell_type": "code",
   "execution_count": null,
   "metadata": {},
   "outputs": [],
   "source": [
    "# Defining a function for Track bar\n",
    "\n",
    "def fun(value):\n",
    "    print(\" \")\n",
    "\n",
    "\n",
    "# I use Pass in the Function the cv2.getTrackbarPos function \n",
    "# is able to get the current value of the trackbar"
   ]
  },
  {
   "cell_type": "code",
   "execution_count": null,
   "metadata": {},
   "outputs": [],
   "source": [
    "# creating the trackbars\n",
    "\n",
    "cv2.namedWindow(\"TrackBar\")\n",
    "cv2.createTrackbar(\"Lower H\",\"TrackBar\",40 , 179,fun)\n",
    "cv2.createTrackbar(\"Lower S\",\"TrackBar\",0 , 255,fun)\n",
    "cv2.createTrackbar(\"Lower V\",\"TrackBar\",0,255,fun)\n",
    "# cv2.createTrackbar(\"Upper H\",\"HSV\",40 , 179,fun)\n",
    "# cv2.createTrackbar(\"Upper S\",\"HSV\",0 , 255,fun)\n",
    "# cv2.createTrackbar(\"Upper V\",\"HSV\",0,255,fun)\n",
    "cv2.createTrackbar(\"Upper H\", \"TrackBar\", 179, 179, fun)\n",
    "cv2.createTrackbar(\"Upper S\", \"TrackBar\", 255, 255, fun)\n",
    "cv2.createTrackbar(\"Upper V\", \"TrackBar\", 255, 255, fun)"
   ]
  },
  {
   "cell_type": "code",
   "execution_count": null,
   "metadata": {},
   "outputs": [],
   "source": [
    "# Strat Reading the webcam\n",
    "\n",
    "# video = cv2.VideoCapture(0)\n",
    "# video.set(3,1920)\n",
    "# video.set(4,1080)\n",
    "# video.set(10,100)\n",
    "\n",
    "# while True:\n",
    "\n",
    "#     S , img = video.read()\n",
    "#     # img.set(3,670)\n",
    "#     # img.set(4,1080)\n",
    "#     hsv_img = cv2.cvtColor(img,cv2.COLOR_BGR2HSV)\n",
    "#     lower_h = cv2.getTrackbarPos(\"Lower H\",\"HSV\")\n",
    "#     lower_s= cv2.getTrackbarPos(\"Lower S\",\"HSV\")\n",
    "#     lower_v= cv2.getTrackbarPos(\"Lower V\",\"HSV\")\n",
    "#     upper_h = cv2.getTrackbarPos(\"Upper H\",\"HSV\")\n",
    "#     upper_s = cv2.getTrackbarPos(\"Upper S\",\"HSV\")\n",
    "#     upper_v = cv2.getTrackbarPos(\"Upper V\",\"HSV\")\n",
    "\n",
    "#     lower_hsv = np.array([lower_h,lower_s,lower_v])\n",
    "#     upper_hsv = np.array([upper_h,upper_s,upper_v])\n",
    "\n",
    "#     mask = cv2.inRange(hsv_img,lower_hsv,upper_hsv)\n",
    "#     result = cv2.bitwise_and(hsv_img,hsv_img,mask=mask)\n",
    "#     # img.set(3,670)\n",
    "#     # img.set(4,1080)\n",
    "#     cv2.imshow(\"Original\", img)\n",
    "#     cv2.imshow(\"Mask\", mask)\n",
    "#     cv2.imshow(\"Result\", result)\n",
    "#     cv2.imshow(\"HSV_video\",hsv_img)\n",
    "#     cv2.waitKey(1)\n",
    "#     if cv2.waitKey(1) & 0xff == ord('r'):\n",
    "#         break\n",
    "\n",
    "# video.release()\n",
    "# # cv2.destroyAllWindows()\n"
   ]
  },
  {
   "cell_type": "markdown",
   "metadata": {},
   "source": [
    "Now Apply on image"
   ]
  },
  {
   "cell_type": "code",
   "execution_count": null,
   "metadata": {},
   "outputs": [],
   "source": []
  },
  {
   "cell_type": "code",
   "execution_count": null,
   "metadata": {},
   "outputs": [],
   "source": [
    "img = cv2.imread(\"fig1.jpg\")\n",
    "img = cv2.resize(img,(500,700))\n",
    "while True:\n",
    "    hsv_img = cv2.cvtColor(img,cv2.COLOR_BGR2HSV)\n",
    "    # lower_h = cv2.getTrackbarPos(\"Lower H\",\"HSV\")\n",
    "    # lower_s= cv2.getTrackbarPos(\"Lower S\",\"HSV\")\n",
    "    # lower_v= cv2.getTrackbarPos(\"Lower V\",\"HSV\")\n",
    "    # upper_h = cv2.getTrackbarPos(\"Upper H\",\"HSV\")\n",
    "    # upper_s = cv2.getTrackbarPos(\"Upper S\",\"HSV\")\n",
    "    # upper_v = cv2.getTrackbarPos(\"Upper V\",\"HSV\")q\n",
    "    lower_h = cv2.getTrackbarPos(\"Lower H\", \"TrackBar\")\n",
    "    lower_s = cv2.getTrackbarPos(\"Lower S\", \"TrackBar\")\n",
    "    lower_v = cv2.getTrackbarPos(\"Lower V\", \"TrackBar\")\n",
    "    upper_h = cv2.getTrackbarPos(\"Upper H\", \"TrackBar\")\n",
    "    upper_s = cv2.getTrackbarPos(\"Upper S\", \"TrackBar\")\n",
    "    upper_v = cv2.getTrackbarPos(\"Upper V\", \"TrackBar\")\n",
    "    lower_hsv = np.array([lower_h,lower_s,lower_v])\n",
    "    upper_hsv = np.array([upper_h,upper_s,upper_v])\n",
    "    mask = cv2.inRange(hsv_img,lower_hsv,upper_hsv)\n",
    "    result = cv2.bitwise_and(hsv_img,hsv_img,mask=mask) \n",
    "    # result = cv2.cvtColor(result,cv2.COLOR_HSV2RGB)\n",
    "    cv2.imshow(\"Mask\",mask)\n",
    "    cv2.imshow(\"Image\",hsv_img)\n",
    "    cv2.imshow(\"Orginal\",img)\n",
    "    cv2.imshow(\"Result\",result)\n",
    "    if (cv2.waitKey(20)  == ord(\"q\")):\n",
    "        break\n",
    "\n",
    "cv2.destroyAllWindows()\n",
    "    \n"
   ]
  }
 ],
 "metadata": {
  "kernelspec": {
   "display_name": "Python 3",
   "language": "python",
   "name": "python3"
  },
  "language_info": {
   "codemirror_mode": {
    "name": "ipython",
    "version": 3
   },
   "file_extension": ".py",
   "mimetype": "text/x-python",
   "name": "python",
   "nbconvert_exporter": "python",
   "pygments_lexer": "ipython3",
   "version": "3.11.5"
  }
 },
 "nbformat": 4,
 "nbformat_minor": 2
}
