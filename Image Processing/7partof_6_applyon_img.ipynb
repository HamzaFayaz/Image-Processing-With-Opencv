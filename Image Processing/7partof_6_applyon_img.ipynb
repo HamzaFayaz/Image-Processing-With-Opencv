{
 "cells": [
  {
   "cell_type": "code",
   "execution_count": 7,
   "metadata": {},
   "outputs": [],
   "source": [
    "import cv2\n",
    "import numpy as np\n",
    "\n"
   ]
  },
  {
   "cell_type": "code",
   "execution_count": 8,
   "metadata": {},
   "outputs": [],
   "source": [
    "def fun(value):\n",
    "    pass\n",
    "\n",
    "# Create a window named \"TrackBar\"\n"
   ]
  },
  {
   "cell_type": "code",
   "execution_count": 9,
   "metadata": {},
   "outputs": [],
   "source": [
    "cv2.namedWindow(\"TrackBar\")\n",
    "\n",
    "# Create trackbars for HSV lower and upper bounds\n",
    "cv2.createTrackbar(\"Lower H\", \"TrackBar\", 40, 179, fun)\n",
    "cv2.createTrackbar(\"Lower S\", \"TrackBar\", 0, 255, fun)\n",
    "cv2.createTrackbar(\"Lower V\", \"TrackBar\", 0, 255, fun)\n",
    "cv2.createTrackbar(\"Upper H\", \"TrackBar\", 179, 179, fun)\n",
    "cv2.createTrackbar(\"Upper S\", \"TrackBar\", 255, 255, fun)\n",
    "cv2.createTrackbar(\"Upper V\", \"TrackBar\", 255, 255, fun)\n",
    "\n",
    "# Load and resize the image\n"
   ]
  },
  {
   "cell_type": "code",
   "execution_count": 10,
   "metadata": {},
   "outputs": [],
   "source": [
    "img = cv2.imread(\"fig1.jpg\")\n",
    "img = cv2.resize(img, (300, 400))\n",
    "\n"
   ]
  },
  {
   "cell_type": "code",
   "execution_count": 11,
   "metadata": {},
   "outputs": [],
   "source": [
    "while True:\n",
    "    hsv_img = cv2.cvtColor(img, cv2.COLOR_BGR2HSV)\n",
    "    \n",
    "    # Get the current positions of the trackbars\n",
    "    lower_h = cv2.getTrackbarPos(\"Lower H\", \"TrackBar\")\n",
    "    lower_s = cv2.getTrackbarPos(\"Lower S\", \"TrackBar\")\n",
    "    lower_v = cv2.getTrackbarPos(\"Lower V\", \"TrackBar\")\n",
    "    upper_h = cv2.getTrackbarPos(\"Upper H\", \"TrackBar\")\n",
    "    upper_s = cv2.getTrackbarPos(\"Upper S\", \"TrackBar\")\n",
    "    upper_v = cv2.getTrackbarPos(\"Upper V\", \"TrackBar\")\n",
    "    # Define the lower and upper HSV range\n",
    "    lower_hsv = np.array([lower_h, lower_s, lower_v])\n",
    "    upper_hsv = np.array([upper_h, upper_s, upper_v])\n",
    "    # Create a binary mask\n",
    "    mask = cv2.inRange(hsv_img, lower_hsv, upper_hsv)\n",
    "    result = cv2.bitwise_and(img, img, mask=mask)  # Apply mask to the original image\n",
    "\n",
    "    # Display the original image, mask, and result\n",
    "    cv2.imshow(\"Mask\", mask)\n",
    "    cv2.imshow(\"HSV Image\", hsv_img)\n",
    "    cv2.imshow(\"Original\", img)\n",
    "    cv2.imshow(\"Result\", result)\n",
    "\n",
    "    if cv2.waitKey(20) == ord(\"q\"):\n",
    "        break\n",
    "\n",
    "cv2.destroyAllWindows()"
   ]
  }
 ],
 "metadata": {
  "kernelspec": {
   "display_name": "Python 3",
   "language": "python",
   "name": "python3"
  },
  "language_info": {
   "codemirror_mode": {
    "name": "ipython",
    "version": 3
   },
   "file_extension": ".py",
   "mimetype": "text/x-python",
   "name": "python",
   "nbconvert_exporter": "python",
   "pygments_lexer": "ipython3",
   "version": "3.11.5"
  }
 },
 "nbformat": 4,
 "nbformat_minor": 2
}
