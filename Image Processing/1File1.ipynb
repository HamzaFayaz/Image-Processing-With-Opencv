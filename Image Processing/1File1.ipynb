{
 "cells": [
  {
   "cell_type": "code",
   "execution_count": 12,
   "id": "c9921e61",
   "metadata": {},
   "outputs": [],
   "source": [
    "import numpy as np\n",
    "import cv2 as cv"
   ]
  },
  {
   "cell_type": "code",
   "execution_count": 7,
   "id": "e7b5a649-c336-40e3-8159-ce5961934dc5",
   "metadata": {},
   "outputs": [],
   "source": []
  },
  {
   "cell_type": "code",
   "execution_count": 44,
   "id": "0fc70589-bad7-4ea8-924f-b40ef64cbe27",
   "metadata": {},
   "outputs": [],
   "source": []
  },
  {
   "cell_type": "code",
   "execution_count": 3,
   "id": "1f5c3819-3d18-4c51-a412-50631d173f6e",
   "metadata": {},
   "outputs": [],
   "source": [
    "\n",
    "# '''\n",
    "# Getting the three channels of the image (RGB) and stacking the images in one window\n",
    "# path1 = path(\"A_0003.jpg\")\n",
    "# img = cv.imread(path1)\n",
    "# img = cv.resize(img,(400,400))\n",
    "# # img = cv.resize(img,0.75)\n",
    "# blue , green, red = cv.split(img)\n",
    "# img = cv.cvtColor(img, cv.COLOR_BGR2GRAY)\n",
    "# # h1 = np.hstack((img,blue))\n",
    "# # h2 = np.hstack((green,red))\n",
    "# # final_img = np.vstack((h1,h2))\n",
    "# # cv.imshow(\"output\",final_img)\n",
    "# # cv.waitKey(0)\n",
    "# # cv.destroyAllWindows() \n",
    "\n",
    "# # '''\n"
   ]
  },
  {
   "cell_type": "code",
   "execution_count": 4,
   "id": "3009b13b-e6e7-49e3-97c2-21cd1a442e3c",
   "metadata": {},
   "outputs": [],
   "source": [
    "\n",
    "\n",
    "\n",
    "# path2 = path(\"A_3182.jpg\")\n",
    "# path3 = path(\"A_3418.jpg\")\n",
    "# path4 = path(\"A_2219.jpg\")\n",
    "\n",
    "# img1 = cv.imread(path1)\n",
    "# img2 = cv.imread(path2)\n",
    "# img3 = cv.imread(path3)\n",
    "# img4 = cv.imread(path4)\n",
    "\n",
    "\n",
    "# # cv.imshow(\"output\",img)\n",
    "# # cv.waitKey(0)\n",
    "# # cv.destroyAllWindows() \n",
    "\n",
    "# stackimages([img,blue , green, red],1)\n",
    "    \n"
   ]
  },
  {
   "cell_type": "markdown",
   "id": "bff99fde-6e48-47e9-afbd-0d68ce6806ca",
   "metadata": {},
   "source": [
    "Now rotating the images\n"
   ]
  },
  {
   "cell_type": "code",
   "execution_count": 10,
   "id": "9c04a33a-da01-44e0-98d3-0b60263d9ba0",
   "metadata": {},
   "outputs": [],
   "source": [
    "path1 = path(\"A_0003.jpg\")\n",
    "img = cv.imread(path1)\n",
    "# (h, w) = img.shape[:2]\n",
    "\n",
    "# # Calculate the center of the image\n",
    "# center = (w // 2, h // 2)\n",
    "\n",
    "# # Define the rotation angle (in degrees)\n",
    "# angle = 45  # for example, rotate 45 degrees\n",
    "\n",
    "# # Compute the rotation matrix\n",
    "# M = cv.getRotationMatrix2D(center, angle, 1.0)\n",
    "\n",
    "# # Determine the dimensions of the rotated image\n",
    "# cos = np.abs(M[0, 0])\n",
    "# sin = np.abs(M[0, 1])\n",
    "\n",
    "# # Compute the new bounding dimensions of the image\n",
    "# new_w = int((h * sin) + (w * cos))\n",
    "# new_h = int((h * cos) + (w * sin))\n",
    "\n",
    "# # Adjust the rotation matrix to take into account translation\n",
    "# M[0, 2] += (new_w / 2) - center[0]\n",
    "# M[1, 2] += (new_h / 2) - center[1]\n",
    "\n",
    "# # Perform the actual rotation\n",
    "# rotated_img = cv.warpAffine(img, M, (new_w, new_h), borderMode=cv.BORDER_CONSTANT, borderValue=(255, 255, 255))\n",
    "\n",
    "# # Display the original and rotated images\n",
    "\n",
    "# img = cv.resize(img,(300,400))\n",
    "# rotated_img = cv.resize(rotated_img ,(300,400))\n",
    "# # Wait for a key press and close the windows\n",
    "# stackimages([img ,rotated_img, rotated_img,img],1)\n",
    "\n",
    "\n",
    "\n"
   ]
  },
  {
   "cell_type": "code",
   "execution_count": 14,
   "id": "40148612-ad34-410a-ab3c-161ecd36570a",
   "metadata": {},
   "outputs": [],
   "source": [
    "import cv2 \n",
    "def imrotate(img, angle, scale=1.0):\n",
    "    (h, w) = img.shape[:2]\n",
    "    center = (w // 2, h // 2)\n",
    "\n",
    "    M = cv2.getRotationMatrix2D(center, angle, scale)\n",
    "\n",
    "    cos = np.abs(M[0, 0])\n",
    "    sin = np.abs(M[0, 1])\n",
    "\n",
    "    new_w = int((h * sin) + (w * cos))\n",
    "    new_h = int((h * cos) + (w * sin))\n",
    "\n",
    "    M[0, 2] += (new_w / 2) - center[0]\n",
    "    M[1, 2] += (new_h / 2) - center[1]\n",
    "\n",
    "    rotated_img = cv2.warpAffine(img, M, (new_w, new_h), borderMode=cv2.BORDER_CONSTANT, borderValue=(255, 255, 255))\n",
    "    \n",
    "    return rotated_img\n",
    "\n",
    "\n",
    "\n",
    "\n",
    "\n",
    "\n",
    "\n",
    "rotated_img = imrotate(img, angle=123)\n",
    "cv2.imshow('Original Image', img)\n",
    "cv2.imshow('Rotated Image', rotated_img)\n",
    "\n",
    "# Wait for a key press and close the windows\n",
    "cv2.waitKey(0)\n",
    "cv2.destroyAllWindows()"
   ]
  },
  {
   "cell_type": "code",
   "execution_count": null,
   "id": "49803a8d-0395-49e6-81f8-445cdef7ab22",
   "metadata": {},
   "outputs": [
    {
     "ename": "SyntaxError",
     "evalue": "invalid syntax (515529280.py, line 2)",
     "output_type": "error",
     "traceback": [
      "\u001b[1;36m  Cell \u001b[1;32mIn[2], line 2\u001b[1;36m\u001b[0m\n\u001b[1;33m    jupyter contrib nbextension install --user\u001b[0m\n\u001b[1;37m            ^\u001b[0m\n\u001b[1;31mSyntaxError\u001b[0m\u001b[1;31m:\u001b[0m invalid syntax\n"
     ]
    }
   ],
   "source": [
    "# !pip install jupyter_contrib_nbextensions\n",
    "# jupyter contrib nbextension install --user\n",
    "# jupyter nbextensions_configurator enable --user\n",
    "\n"
   ]
  },
  {
   "cell_type": "markdown",
   "id": "f9853f50",
   "metadata": {},
   "source": [
    "Image Segmentation in opencv \n",
    "\n",
    "1: convert image to grayscale \n",
    "2: convert the image to binary\n",
    "3: apply global , adaptive thresholding"
   ]
  },
  {
   "cell_type": "code",
   "execution_count": 15,
   "id": "560b7c0c-7b4d-4843-9354-87c7bfa51dff",
   "metadata": {},
   "outputs": [],
   "source": [
    "def path2(img):\n",
    "    path = \"C:\\\\Users\\\\HamzaFayaz\\\\OneDrive\\\\Work Zone\\\\Skills-works\\\\Computer Vision\\\\Image Processing\\\\Images\\\\Data\\\\Concrete Crack Images\"\n",
    "    newpath = path +\"\\\\\"+img\n",
    "    return newpath"
   ]
  },
  {
   "cell_type": "code",
   "execution_count": 50,
   "id": "3c3209ff",
   "metadata": {},
   "outputs": [],
   "source": []
  },
  {
   "cell_type": "code",
   "execution_count": 51,
   "id": "2e40e504",
   "metadata": {},
   "outputs": [],
   "source": [
    "# stackimages([img ,img2, img2,img],1)"
   ]
  }
 ],
 "metadata": {
  "kernelspec": {
   "display_name": "Python 3 (ipykernel)",
   "language": "python",
   "name": "python3"
  },
  "language_info": {
   "codemirror_mode": {
    "name": "ipython",
    "version": 3
   },
   "file_extension": ".py",
   "mimetype": "text/x-python",
   "name": "python",
   "nbconvert_exporter": "python",
   "pygments_lexer": "ipython3",
   "version": "3.11.5"
  }
 },
 "nbformat": 4,
 "nbformat_minor": 5
}
