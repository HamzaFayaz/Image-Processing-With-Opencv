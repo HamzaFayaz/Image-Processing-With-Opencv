{
 "cells": [
  {
   "cell_type": "code",
   "execution_count": 5,
   "metadata": {},
   "outputs": [],
   "source": [
    "import numpy as np\n",
    "import cv2\n",
    "\n"
   ]
  },
  {
   "cell_type": "code",
   "execution_count": 3,
   "metadata": {},
   "outputs": [],
   "source": [
    "def path2(img):\n",
    "    path = \"C:\\\\Users\\\\HamzaFayaz\\\\OneDrive\\\\Work Zone\\\\Skills-works\\\\Computer Vision\\\\Image Processing\\\\Images\\\\Data\\\\Concrete Crack Images\"\n",
    "    newpath = path +\"\\\\\"+img\n",
    "    return newpath"
   ]
  },
  {
   "cell_type": "code",
   "execution_count": 23,
   "metadata": {},
   "outputs": [
    {
     "name": "stdout",
     "output_type": "stream",
     "text": [
      "(227, 227)\n"
     ]
    }
   ],
   "source": [
    "path = path2(\"00001.jpg\")\n",
    "\n",
    "img = cv2.imread(path,cv2.IMREAD_GRAYSCALE)\n",
    "\n",
    "print(img.shape)\n",
    "\n",
    "cv2.imshow(\"output\",img)\n",
    "\n",
    "cv2.waitKey(0)\n",
    "cv2.destroyAllWindows()\n",
    "\n"
   ]
  },
  {
   "cell_type": "code",
   "execution_count": 32,
   "metadata": {},
   "outputs": [],
   "source": [
    "'''\n",
    "Now Apply the adaptive thresold\n",
    "\n",
    "\n",
    "'''\n",
    "\n",
    "result_img = cv2.adaptiveThreshold(img,255,cv2.ADAPTIVE_THRESH_MEAN_C,cv2.THRESH_BINARY_INV,67,15)\n",
    "cv2.imshow(\"output\",img)\n",
    "cv2.imshow(\"output\",result_img)\n",
    "\n",
    "cv2.waitKey(0)\n",
    "cv2.destroyAllWindows()\n"
   ]
  },
  {
   "cell_type": "code",
   "execution_count": 36,
   "metadata": {},
   "outputs": [],
   "source": [
    "result_img = cv2.adaptiveThreshold(img,255,cv2.ADAPTIVE_THRESH_GAUSSIAN_C,cv2.THRESH_BINARY_INV,31,6)\n",
    "cv2.imshow(\"output\",img)\n",
    "cv2.imshow(\"output\",result_img)\n",
    "\n",
    "cv2.waitKey(0)\n",
    "cv2.destroyAllWindows()"
   ]
  }
 ],
 "metadata": {
  "kernelspec": {
   "display_name": "Python 3",
   "language": "python",
   "name": "python3"
  },
  "language_info": {
   "codemirror_mode": {
    "name": "ipython",
    "version": 3
   },
   "file_extension": ".py",
   "mimetype": "text/x-python",
   "name": "python",
   "nbconvert_exporter": "python",
   "pygments_lexer": "ipython3",
   "version": "3.11.5"
  }
 },
 "nbformat": 4,
 "nbformat_minor": 2
}
