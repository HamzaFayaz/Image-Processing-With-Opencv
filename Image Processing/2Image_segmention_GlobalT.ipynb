{
 "cells": [
  {
   "cell_type": "code",
   "execution_count": 9,
   "metadata": {},
   "outputs": [],
   "source": [
    "import cv2\n",
    "import numpy as np"
   ]
  },
  {
   "cell_type": "code",
   "execution_count": 10,
   "metadata": {},
   "outputs": [],
   "source": [
    "# import utilits as my\n",
    "def path2(img):\n",
    "    path = \"C:\\\\Users\\\\HamzaFayaz\\\\OneDrive\\\\Work Zone\\\\Skills-works\\\\Computer Vision\\\\Image Processing\\\\Images\\\\Data\\\\Concrete Crack Images\"\n",
    "    newpath = path +\"\\\\\"+img\n",
    "    return newpath"
   ]
  },
  {
   "cell_type": "code",
   "execution_count": 19,
   "metadata": {},
   "outputs": [],
   "source": [
    "path = path2(\"00001.jpg\")\n",
    "\n",
    "'''\n",
    "Applying Global Thresholding for Image segmention\n",
    "\n",
    "\n",
    "'''\n",
    "# print(path)\n",
    "img = cv2.imread(path,cv2.IMREAD_GRAYSCALE)\n",
    "img2 = img\n",
    "# img = img.astype(np.float32)\n",
    "\n",
    "# img = cv2.resize(img,(300,400))\n",
    "\n",
    "# img = (img/255)\n",
    "# cv2.imshow(\"Output\",img)\n",
    "# cv2.waitKey(0)\n",
    "# cv2.destroyAllWindows()\n",
    "\n",
    "\n",
    "# _,img = cv2.threshold(img,115,255, cv2.THRESH_BINARY_INV) # normal or manual nethod\n",
    "\n",
    "\n",
    "_,img = cv2.threshold(img,0,255, (cv2.THRESH_BINARY_INV + cv2.THRESH_OTSU))\n",
    "\n",
    "#  Otsu automatic method to find the threshokd \n",
    "#  use image histogram \n",
    "\n",
    "# '''\n",
    "# required the image in grayscale (0-255) not (0-1)\n",
    "# for global use the threshold function  (parameters are)\n",
    "\n",
    "# src : image src\n",
    "# threshold  : threshold value (115) -- pixel intensity\n",
    "# maxvalue : Value that will be replace be the pixel values ()\n",
    "# type: pixel value will be filled if below the thresold with the maxvalue value \n",
    "# (change the flow like for cv2.THRESH_BINARY ( 0 black and 255 white) \n",
    "# and fro THRESH_BINARY_INV(  0 white and 255 black)\n",
    "# also have more options\n",
    "\n",
    "# '''\n",
    "cv2.imshow(\"Output\",img)\n",
    "cv2.imshow(\"grayscale \", img2)\n",
    "cv2.waitKey(0)\n",
    "cv2.destroyAllWindows()"
   ]
  },
  {
   "cell_type": "code",
   "execution_count": null,
   "metadata": {},
   "outputs": [],
   "source": []
  }
 ],
 "metadata": {
  "kernelspec": {
   "display_name": "Python 3",
   "language": "python",
   "name": "python3"
  },
  "language_info": {
   "codemirror_mode": {
    "name": "ipython",
    "version": 3
   },
   "file_extension": ".py",
   "mimetype": "text/x-python",
   "name": "python",
   "nbconvert_exporter": "python",
   "pygments_lexer": "ipython3",
   "version": "3.11.5"
  }
 },
 "nbformat": 4,
 "nbformat_minor": 2
}
