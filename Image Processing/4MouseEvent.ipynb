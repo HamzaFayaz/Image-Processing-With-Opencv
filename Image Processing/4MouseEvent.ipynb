{
 "cells": [
  {
   "cell_type": "code",
   "execution_count": 2,
   "metadata": {},
   "outputs": [],
   "source": [
    "import cv2"
   ]
  },
  {
   "cell_type": "code",
   "execution_count": 20,
   "metadata": {},
   "outputs": [],
   "source": [
    "# Drawing a circle on in image or video on clicking a particular region\n",
    "\n",
    "def MouseCallBack(event , x, y , flags , param):\n",
    "    global img\n",
    "    if event == cv2.EVENT_LBUTTONDBLCLK:\n",
    "        cv2.circle(img,(x,y) , 10 ,(0,255,0),3)\n",
    "\n"
   ]
  },
  {
   "cell_type": "code",
   "execution_count": 28,
   "metadata": {},
   "outputs": [],
   "source": [
    "draw = False\n",
    "mode = False\n",
    "a = -1\n",
    "b = -1\n"
   ]
  },
  {
   "cell_type": "code",
   "execution_count": 56,
   "metadata": {},
   "outputs": [],
   "source": [
    "def draw_circle(event,x,y,flags,param):\n",
    "    global draw , mode ,a,b\n",
    "    if (event == cv2.EVENT_LBUTTONDOWN):\n",
    "        a,b = x,y\n",
    "        draw = True\n",
    "    elif (event == cv2.EVENT_MOUSEMOVE):\n",
    "            if draw ==True:\n",
    "             cv2.rectangle(img , (a,b),(x,y),(0,0,255),-1)\n",
    "             \n",
    "    elif (event == cv2.EVENT_LBUTTONUP):\n",
    "        draw = False\n",
    "        cv2.rectangle(img , (a,b),(x,y),(0,0,255),-1)\n",
    "        \n",
    "\n",
    "\n",
    "        \n"
   ]
  },
  {
   "cell_type": "code",
   "execution_count": 57,
   "metadata": {},
   "outputs": [],
   "source": [
    "def path2(img):\n",
    "    path = \"C:\\\\Users\\\\HamzaFayaz\\\\OneDrive\\\\Work Zone\\\\Skills-works\\\\Computer Vision\\\\Image Processing\\\\Images\\\\Data\\\\Concrete Crack Images\"\n",
    "    newpath = path +\"\\\\\"+img\n",
    "    return newpath\n",
    "\n",
    "path = path2(\"00001.jpg\")\n",
    "\n",
    "img = cv2.imread(path)\n",
    "\n",
    "cv2.imshow(\"Output\",img)\n",
    "cv2.waitKey(0)\n",
    "cv2.destroyAllWindows()\n",
    "\n"
   ]
  },
  {
   "cell_type": "code",
   "execution_count": 58,
   "metadata": {},
   "outputs": [],
   "source": [
    "\n",
    "cv2.namedWindow(\"Image\")\n",
    "cv2.setMouseCallback(\"Image\",draw_circle)\n",
    "# cv2.imshow(\"Image\",img)\n",
    "# cv2.waitKey(0)\n",
    "# cv2.destroyAllWindows()\n",
    "\n",
    "while True:\n",
    "    cv2.imshow(\"Image\",img)\n",
    "    if cv2.waitKey(20) == ord(\"q\"):\n",
    "        break\n",
    "cv2.destroyAllWindows()\n",
    "\n",
    "\n",
    "\n"
   ]
  },
  {
   "cell_type": "code",
   "execution_count": 3,
   "metadata": {},
   "outputs": [],
   "source": []
  }
 ],
 "metadata": {
  "kernelspec": {
   "display_name": "Python 3",
   "language": "python",
   "name": "python3"
  },
  "language_info": {
   "codemirror_mode": {
    "name": "ipython",
    "version": 3
   },
   "file_extension": ".py",
   "mimetype": "text/x-python",
   "name": "python",
   "nbconvert_exporter": "python",
   "pygments_lexer": "ipython3",
   "version": "3.11.5"
  }
 },
 "nbformat": 4,
 "nbformat_minor": 2
}
